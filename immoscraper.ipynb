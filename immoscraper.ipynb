{
 "cells": [
  {
   "cell_type": "markdown",
   "metadata": {
    "collapsed": true
   },
   "source": [
    "# Immoscout24.de Scraper\n",
    "\n",
    "Ein Script zum dumpen (in `.csv` schreiben) von Immobilien, welche auf [immoscout24.de](http://immoscout24.de) angeboten werden"
   ]
  },
  {
   "cell_type": "code",
   "execution_count": 1,
   "metadata": {},
   "outputs": [],
   "source": [
    "from bs4 import BeautifulSoup\n",
    "import json\n",
    "import urllib.request as urllib2\n",
    "import random\n",
    "from random import choice\n",
    "import time"
   ]
  },
  {
   "cell_type": "code",
   "execution_count": 2,
   "metadata": {},
   "outputs": [],
   "source": [
    "# urlquery from Achim Tack. Thank you!\n",
    "# https://github.com/ATack/GoogleTrafficParser/blob/master/google_traffic_parser.py\n",
    "def urlquery(url):\n",
    "    # function cycles randomly through different user agents and time intervals to simulate more natural queries\n",
    "    try:\n",
    "        sleeptime = float(random.randint(1,6))/5\n",
    "        time.sleep(sleeptime)\n",
    "\n",
    "        agents = ['Mozilla/5.0 (Macintosh; Intel Mac OS X 10_8_2) AppleWebKit/537.17 (KHTML, like Gecko) Chrome/24.0.1309.0 Safari/537.17',\n",
    "        'Mozilla/5.0 (compatible; MSIE 10.6; Windows NT 6.1; Trident/5.0; InfoPath.2; SLCC1; .NET CLR 3.0.4506.2152; .NET CLR 3.5.30729; .NET CLR 2.0.50727) 3gpp-gba UNTRUSTED/1.0',\n",
    "        'Opera/12.80 (Windows NT 5.1; U; en) Presto/2.10.289 Version/12.02',\n",
    "        'Mozilla/4.0 (compatible; MSIE 5.5; Windows NT)',\n",
    "        'Mozilla/3.0',\n",
    "        'Mozilla/5.0 (iPhone; U; CPU like Mac OS X; en) AppleWebKit/420+ (KHTML, like Gecko) Version/3.0 Mobile/1A543a Safari/419.3',\n",
    "        'Mozilla/5.0 (Linux; U; Android 0.5; en-us) AppleWebKit/522+ (KHTML, like Gecko) Safari/419.3',\n",
    "        'Opera/9.00 (Windows NT 5.1; U; en)']\n",
    "\n",
    "        agent = choice(agents)\n",
    "        opener = urllib2.build_opener()\n",
    "        opener.addheaders = [('User-agent', agent)]\n",
    "\n",
    "        html = opener.open(url).read()\n",
    "        time.sleep(sleeptime)\n",
    "        \n",
    "        return html\n",
    "\n",
    "    except Exception as e:\n",
    "        print('Something went wrong with Crawling:\\n%s' % e)"
   ]
  },
  {
   "cell_type": "code",
   "execution_count": 3,
   "metadata": {},
   "outputs": [],
   "source": [
    "def immoscout24parser(url):\n",
    "    \n",
    "    ''' Parser holt aus Immoscout24.de Suchergebnisseiten die Immobilien '''\n",
    "    \n",
    "    try:\n",
    "        soup = BeautifulSoup(urlquery(url), 'html.parser')\n",
    "        scripts = soup.findAll('script')\n",
    "        for script in scripts:\n",
    "            # print(script.text.strip())\n",
    "            if 'IS24.resultList' in script.text.strip():\n",
    "                s = script.string.split('\\n')\n",
    "                for line in s:\n",
    "                    #print('\\n\\n\\'%s\\'' % line)\n",
    "                    if line.strip().startswith('resultListModel'):\n",
    "                        resultListModel = line.strip('resultListModel: ')\n",
    "                        immo_json = json.loads(resultListModel[:-1])\n",
    "\n",
    "                        searchResponseModel = immo_json[u'searchResponseModel']\n",
    "                        resultlist_json = searchResponseModel[u'resultlist.resultlist']\n",
    "                        \n",
    "                        return resultlist_json\n",
    "\n",
    "    except Exception as e:\n",
    "        print(\"Fehler in immoscout24 parser: %s\" % e)"
   ]
  },
  {
   "cell_type": "markdown",
   "metadata": {},
   "source": [
    "## Main Loop\n",
    "\n",
    "Geht Wohnungen und Häuser, jeweils zum Kauf und Miete durch und sammelt die Daten"
   ]
  },
  {
   "cell_type": "code",
   "execution_count": 4,
   "metadata": {},
   "outputs": [
    {
     "name": "stdout",
     "output_type": "stream",
     "text": [
      "Suche Wohnung / Miete\n",
      "Scrape Page 1/10 (20 Immobilien Wohnung Miete gefunden)\n",
      "Scrape Page 2/10 (40 Immobilien Wohnung Miete gefunden)\n",
      "Scrape Page 3/10 (58 Immobilien Wohnung Miete gefunden)\n",
      "Scrape Page 4/10 (78 Immobilien Wohnung Miete gefunden)\n",
      "Scrape Page 5/10 (98 Immobilien Wohnung Miete gefunden)\n",
      "Scrape Page 6/10 (118 Immobilien Wohnung Miete gefunden)\n",
      "Scrape Page 7/10 (138 Immobilien Wohnung Miete gefunden)\n",
      "Scrape Page 8/10 (158 Immobilien Wohnung Miete gefunden)\n",
      "Scrape Page 9/10 (178 Immobilien Wohnung Miete gefunden)\n",
      "Scrape Page 10/10 (183 Immobilien Wohnung Miete gefunden)\n"
     ]
    }
   ],
   "source": [
    "immos = {}\n",
    "\n",
    "b = 'Baden-Wuerttemberg' # Bundesland\n",
    "s = 'Karlsruhe' # Stadt\n",
    "k = 'Wohnung' # Wohnung oder Haus\n",
    "w = 'Miete' # Miete oder Kauf\n",
    "\n",
    "page = 0\n",
    "print('Suche %s / %s' % (k, w))\n",
    "\n",
    "while True:\n",
    "    page+=1\n",
    "    url = 'http://www.immobilienscout24.de/Suche/S-T/P-%s/%s-%s/%s/%s?pagerReporting=true' % (page, k, w, b, s)\n",
    "\n",
    "    # Because of some timeout or immoscout24.de errors,\n",
    "    # we try until it works \\o/\n",
    "    resultlist_json = None\n",
    "    while resultlist_json is None:\n",
    "        try:\n",
    "            resultlist_json = immoscout24parser(url)\n",
    "            # print(resultlist_json)\n",
    "            numberOfPages = int(resultlist_json[u'paging'][u'numberOfPages'])\n",
    "            pageNumber = int(resultlist_json[u'paging'][u'pageNumber'])\n",
    "        except:\n",
    "            pass\n",
    "\n",
    "    if page>numberOfPages:\n",
    "        break\n",
    "\n",
    "    # Get the data\n",
    "    for resultlistEntry in resultlist_json['resultlistEntries'][0][u'resultlistEntry']:\n",
    "        realEstate_json = resultlistEntry[u'resultlist.realEstate']\n",
    "        \n",
    "        realEstate = {}\n",
    "        realEstate['PubDate'] = resultlistEntry[u'@publishDate'][0:16]\n",
    "        \n",
    "        if k=='Wohnung':\n",
    "            realEstate['Balcony'] = realEstate_json['balcony']\n",
    "            realEstate['Kitchen'] = realEstate_json['builtInKitchen']\n",
    "            # realEstate['garden'] = realEstate_json['garden']\n",
    "            realEstate['Price'] = realEstate_json['price']['value']\n",
    "            # realEstate['privateOffer'] = realEstate_json['privateOffer']\n",
    "        elif k=='Haus':\n",
    "            realEstate['isBarrierFree'] = realEstate_json['isBarrierFree']\n",
    "            realEstate['Cellar'] = realEstate_json['cellar']\n",
    "            realEstate['PlotArea'] = realEstate_json['plotArea']\n",
    "            realEstate['Price'] = realEstate_json['price']['value']\n",
    "            realEstate['PrivateOffer'] = realEstate_json['privateOffer']\n",
    "            \n",
    "        realEstate['Address'] = realEstate_json['address']['description']['text']\n",
    "        #realEstate['city'] = realEstate_json['address']['city']\n",
    "        #realEstate['postcode'] = realEstate_json['address']['postcode']\n",
    "        realEstate['Quarter'] = realEstate_json['address']['quarter']\n",
    "        #try:\n",
    "        #    realEstate['lat'] = realEstate_json['address'][u'wgs84Coordinate']['latitude']\n",
    "        #    realEstate['lon'] = realEstate_json['address'][u'wgs84Coordinate']['longitude']\n",
    "        #except:\n",
    "        #    realEstate['lat'] = None\n",
    "        #    realEstate['lon'] = None\n",
    "            \n",
    "        realEstate['Title'] = realEstate_json['title']\n",
    "\n",
    "        realEstate['Rooms'] = realEstate_json['numberOfRooms']\n",
    "        realEstate['Space'] = realEstate_json['livingSpace']\n",
    "        \n",
    "        # realEstate['floorplan'] = realEstate_json['floorplan']\n",
    "        realEstate['ID'] = realEstate_json[u'@id']\n",
    "        \n",
    "        realEstate['url'] = u'=HYPERLINK(\"https://www.immobilienscout24.de/expose/%s\")' % realEstate['ID']\n",
    "\n",
    "        immos[realEstate['PubDate']] = realEstate\n",
    "\n",
    "    print('Scrape Page %i/%i (%i Immobilien %s %s gefunden)' % (page, numberOfPages, len(immos), k, w))"
   ]
  },
  {
   "cell_type": "code",
   "execution_count": 5,
   "metadata": {},
   "outputs": [
    {
     "name": "stdout",
     "output_type": "stream",
     "text": [
      "Scraped 183 Immos\n"
     ]
    }
   ],
   "source": [
    "print(\"Scraped %i Immos\" % len(immos))"
   ]
  },
  {
   "cell_type": "markdown",
   "metadata": {},
   "source": [
    "## Datenaufbereitung & Cleaning\n",
    "\n",
    "Die gesammelten Daten werden in ein sauberes Datenformat konvertiert, welches z.B. auch mit Excel gelesen werden kann. Weiterhin werden die Ergebnisse pseudonymisiert, d.h. die Anbieter bekommen eindeutige Nummern statt Klarnamen."
   ]
  },
  {
   "cell_type": "code",
   "execution_count": 6,
   "metadata": {},
   "outputs": [],
   "source": [
    "from datetime import datetime\n",
    "timestamp = datetime.strftime(datetime.now(), '%Y-%m-%d-%H-%M')"
   ]
  },
  {
   "cell_type": "code",
   "execution_count": 7,
   "metadata": {},
   "outputs": [],
   "source": [
    "import pandas as pd"
   ]
  },
  {
   "cell_type": "code",
   "execution_count": 13,
   "metadata": {},
   "outputs": [],
   "source": [
    "df = pd.DataFrame(immos).T\n",
    "df.index.name = 'PublishDate'\n",
    "df.sort_index(ascending=False, inplace=True)"
   ]
  },
  {
   "cell_type": "code",
   "execution_count": 14,
   "metadata": {},
   "outputs": [
    {
     "data": {
      "text/plain": [
       "183"
      ]
     },
     "execution_count": 14,
     "metadata": {},
     "output_type": "execute_result"
    }
   ],
   "source": [
    "len(df)"
   ]
  },
  {
   "cell_type": "code",
   "execution_count": 15,
   "metadata": {
    "scrolled": true
   },
   "outputs": [
    {
     "data": {
      "text/html": [
       "<div>\n",
       "<style scoped>\n",
       "    .dataframe tbody tr th:only-of-type {\n",
       "        vertical-align: middle;\n",
       "    }\n",
       "\n",
       "    .dataframe tbody tr th {\n",
       "        vertical-align: top;\n",
       "    }\n",
       "\n",
       "    .dataframe thead th {\n",
       "        text-align: right;\n",
       "    }\n",
       "</style>\n",
       "<table border=\"1\" class=\"dataframe\">\n",
       "  <thead>\n",
       "    <tr style=\"text-align: right;\">\n",
       "      <th></th>\n",
       "      <th>Address</th>\n",
       "      <th>Balcony</th>\n",
       "      <th>ID</th>\n",
       "      <th>Kitchen</th>\n",
       "      <th>Price</th>\n",
       "      <th>PubDate</th>\n",
       "      <th>Quarter</th>\n",
       "      <th>Rooms</th>\n",
       "      <th>Space</th>\n",
       "      <th>Title</th>\n",
       "      <th>url</th>\n",
       "    </tr>\n",
       "    <tr>\n",
       "      <th>PublishDate</th>\n",
       "      <th></th>\n",
       "      <th></th>\n",
       "      <th></th>\n",
       "      <th></th>\n",
       "      <th></th>\n",
       "      <th></th>\n",
       "      <th></th>\n",
       "      <th></th>\n",
       "      <th></th>\n",
       "      <th></th>\n",
       "      <th></th>\n",
       "    </tr>\n",
       "  </thead>\n",
       "  <tbody>\n",
       "    <tr>\n",
       "      <th>2018-11-14T11:40</th>\n",
       "      <td>Lindenplatz 9, Mühlburg, Karlsruhe</td>\n",
       "      <td>true</td>\n",
       "      <td>82640927</td>\n",
       "      <td>false</td>\n",
       "      <td>1000</td>\n",
       "      <td>2018-11-14T11:40</td>\n",
       "      <td>Mühlburg</td>\n",
       "      <td>4</td>\n",
       "      <td>96</td>\n",
       "      <td>Wunderschöne Vier-Zimmer-Wohnung am Lindenplatz</td>\n",
       "      <td>=HYPERLINK(\"https://www.immobilienscout24.de/e...</td>\n",
       "    </tr>\n",
       "    <tr>\n",
       "      <th>2018-11-14T11:39</th>\n",
       "      <td>Kaiseralle 15, Weststadt, Karlsruhe</td>\n",
       "      <td>true</td>\n",
       "      <td>75106196</td>\n",
       "      <td>true</td>\n",
       "      <td>590</td>\n",
       "      <td>2018-11-14T11:39</td>\n",
       "      <td>Weststadt</td>\n",
       "      <td>2</td>\n",
       "      <td>67</td>\n",
       "      <td>Top Lage! Helle 2 Zimmer Wohnung KA-Weststadt ...</td>\n",
       "      <td>=HYPERLINK(\"https://www.immobilienscout24.de/e...</td>\n",
       "    </tr>\n",
       "    <tr>\n",
       "      <th>2018-11-14T11:08</th>\n",
       "      <td>Hallesche Allee 11, Hagsfeld, Karlsruhe</td>\n",
       "      <td>true</td>\n",
       "      <td>90557810</td>\n",
       "      <td>true</td>\n",
       "      <td>840</td>\n",
       "      <td>2018-11-14T11:08</td>\n",
       "      <td>Hagsfeld</td>\n",
       "      <td>3</td>\n",
       "      <td>89</td>\n",
       "      <td>Karlsruhe Hagsfeld 3-Zimmer Komfortwohnung</td>\n",
       "      <td>=HYPERLINK(\"https://www.immobilienscout24.de/e...</td>\n",
       "    </tr>\n",
       "    <tr>\n",
       "      <th>2018-11-14T10:28</th>\n",
       "      <td>Rüppurr, Karlsruhe</td>\n",
       "      <td>false</td>\n",
       "      <td>108369698</td>\n",
       "      <td>false</td>\n",
       "      <td>440</td>\n",
       "      <td>2018-11-14T10:28</td>\n",
       "      <td>Rüppurr</td>\n",
       "      <td>2</td>\n",
       "      <td>56</td>\n",
       "      <td>5815 - Renovierte Dachgeschosswohnung in Rüppurr!</td>\n",
       "      <td>=HYPERLINK(\"https://www.immobilienscout24.de/e...</td>\n",
       "    </tr>\n",
       "    <tr>\n",
       "      <th>2018-11-14T10:24</th>\n",
       "      <td>Kaiserstr. 205, Innenstadt-West, Karlsruhe</td>\n",
       "      <td>false</td>\n",
       "      <td>108368972</td>\n",
       "      <td>false</td>\n",
       "      <td>720</td>\n",
       "      <td>2018-11-14T10:24</td>\n",
       "      <td>Innenstadt-West</td>\n",
       "      <td>3</td>\n",
       "      <td>78.6</td>\n",
       "      <td>Erstbezug 3-Zimmer-Wohnung für Studenten-WG na...</td>\n",
       "      <td>=HYPERLINK(\"https://www.immobilienscout24.de/e...</td>\n",
       "    </tr>\n",
       "  </tbody>\n",
       "</table>\n",
       "</div>"
      ],
      "text/plain": [
       "                                                     Address Balcony  \\\n",
       "PublishDate                                                            \n",
       "2018-11-14T11:40          Lindenplatz 9, Mühlburg, Karlsruhe    true   \n",
       "2018-11-14T11:39         Kaiseralle 15, Weststadt, Karlsruhe    true   \n",
       "2018-11-14T11:08     Hallesche Allee 11, Hagsfeld, Karlsruhe    true   \n",
       "2018-11-14T10:28                          Rüppurr, Karlsruhe   false   \n",
       "2018-11-14T10:24  Kaiserstr. 205, Innenstadt-West, Karlsruhe   false   \n",
       "\n",
       "                         ID Kitchen Price           PubDate          Quarter  \\\n",
       "PublishDate                                                                    \n",
       "2018-11-14T11:40   82640927   false  1000  2018-11-14T11:40         Mühlburg   \n",
       "2018-11-14T11:39   75106196    true   590  2018-11-14T11:39        Weststadt   \n",
       "2018-11-14T11:08   90557810    true   840  2018-11-14T11:08         Hagsfeld   \n",
       "2018-11-14T10:28  108369698   false   440  2018-11-14T10:28          Rüppurr   \n",
       "2018-11-14T10:24  108368972   false   720  2018-11-14T10:24  Innenstadt-West   \n",
       "\n",
       "                 Rooms Space  \\\n",
       "PublishDate                    \n",
       "2018-11-14T11:40     4    96   \n",
       "2018-11-14T11:39     2    67   \n",
       "2018-11-14T11:08     3    89   \n",
       "2018-11-14T10:28     2    56   \n",
       "2018-11-14T10:24     3  78.6   \n",
       "\n",
       "                                                              Title  \\\n",
       "PublishDate                                                           \n",
       "2018-11-14T11:40    Wunderschöne Vier-Zimmer-Wohnung am Lindenplatz   \n",
       "2018-11-14T11:39  Top Lage! Helle 2 Zimmer Wohnung KA-Weststadt ...   \n",
       "2018-11-14T11:08         Karlsruhe Hagsfeld 3-Zimmer Komfortwohnung   \n",
       "2018-11-14T10:28  5815 - Renovierte Dachgeschosswohnung in Rüppurr!   \n",
       "2018-11-14T10:24  Erstbezug 3-Zimmer-Wohnung für Studenten-WG na...   \n",
       "\n",
       "                                                                url  \n",
       "PublishDate                                                          \n",
       "2018-11-14T11:40  =HYPERLINK(\"https://www.immobilienscout24.de/e...  \n",
       "2018-11-14T11:39  =HYPERLINK(\"https://www.immobilienscout24.de/e...  \n",
       "2018-11-14T11:08  =HYPERLINK(\"https://www.immobilienscout24.de/e...  \n",
       "2018-11-14T10:28  =HYPERLINK(\"https://www.immobilienscout24.de/e...  \n",
       "2018-11-14T10:24  =HYPERLINK(\"https://www.immobilienscout24.de/e...  "
      ]
     },
     "execution_count": 15,
     "metadata": {},
     "output_type": "execute_result"
    }
   ],
   "source": [
    "df.head()"
   ]
  },
  {
   "cell_type": "markdown",
   "metadata": {},
   "source": [
    "## Alles Dumpen"
   ]
  },
  {
   "cell_type": "code",
   "execution_count": 16,
   "metadata": {},
   "outputs": [],
   "source": [
    "f = open('%s-%s-%s.csv' % (timestamp, k, w), 'w')\n",
    "f.write('# %s %s from immoscout24.de on %s\\n' % (k,w,timestamp))\n",
    "df.to_csv(f, encoding='utf-8', index=False)\n",
    "f.close()"
   ]
  },
  {
   "cell_type": "code",
   "execution_count": 17,
   "metadata": {},
   "outputs": [],
   "source": [
    "df.to_excel('%s-%s-%s.xlsx' % (timestamp, k, w))"
   ]
  },
  {
   "cell_type": "markdown",
   "metadata": {
    "collapsed": true
   },
   "source": [
    "Fragen? [@Balzer82](https://twitter.com/Balzer82)"
   ]
  }
 ],
 "metadata": {
  "kernelspec": {
   "display_name": "Python 3",
   "language": "python",
   "name": "python3"
  },
  "language_info": {
   "codemirror_mode": {
    "name": "ipython",
    "version": 3
   },
   "file_extension": ".py",
   "mimetype": "text/x-python",
   "name": "python",
   "nbconvert_exporter": "python",
   "pygments_lexer": "ipython3",
   "version": "3.5.3"
  }
 },
 "nbformat": 4,
 "nbformat_minor": 1
}
